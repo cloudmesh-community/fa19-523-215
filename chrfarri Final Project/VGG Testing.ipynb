{
 "cells": [
  {
   "cell_type": "markdown",
   "metadata": {},
   "source": [
    "# VGG Testing"
   ]
  },
  {
   "cell_type": "markdown",
   "metadata": {},
   "source": [
    "## Import Packages"
   ]
  },
  {
   "cell_type": "code",
   "execution_count": null,
   "metadata": {
    "jupyter": {
     "source_hidden": true
    }
   },
   "outputs": [],
   "source": [
    "import numpy as np\n",
    "import pandas as pd\n",
    "import keras\n",
    "from keras import applications\n",
    "from keras.models import Sequential, Model\n",
    "from keras.layers import Dense, Dropout, Activation, Flatten, Bidirectional, Conv2D, MaxPooling2D, GlobalAveragePooling2D, Lambda, MaxPool2D, BatchNormalization, Input, concatenate, Reshape, LSTM, CuDNNLSTM\n",
    "#from keras.layers import K\n",
    "from keras.utils import np_utils\n",
    "from keras.preprocessing.image import ImageDataGenerator\n",
    "from keras.optimizers import RMSprop, Adam\n",
    "from keras.callbacks import Callback, EarlyStopping, ReduceLROnPlateau, ModelCheckpoint, TensorBoard\n",
    "from keras.utils.np_utils import to_categorical\n",
    "from keras import applications\n",
    "from sklearn.preprocessing import LabelEncoder\n",
    "from sklearn.model_selection import train_test_split\n",
    "from sklearn.metrics import confusion_matrix\n",
    "from sklearn.metrics import accuracy_score\n",
    "import xml.etree.ElementTree as ET\n",
    "import sklearn\n",
    "import itertools\n",
    "import cv2\n",
    "import scipy\n",
    "import os\n",
    "import csv\n",
    "import matplotlib.pyplot as plt\n",
    "%matplotlib inline\n",
    "from tqdm import tqdm\n",
    "\n",
    "# save np.load\n",
    "np_load_old = np.load\n",
    "\n",
    "# modify the default parameters of np.load\n",
    "np.load = lambda *a,**k: np_load_old(*a, allow_pickle=True, **k)"
   ]
  },
  {
   "cell_type": "code",
   "execution_count": 3,
   "metadata": {
    "jupyter": {
     "source_hidden": true
    }
   },
   "outputs": [],
   "source": [
    "class1 = {1:'NEUTROPHIL',2:'EOSINOPHIL',3:'MONOCYTE',4:'LYMPHOCYTE'}\n",
    "class2 = {0:'Mononuclear',1:'Polynuclear'}\n",
    "tree_path = 'C:\\\\Users\\\\Chris\\\\Blood Cells\\\\BCCD_Dataset-master\\\\BCCD\\\\Annotations'\n",
    "image_path = 'C:\\\\Users\\\\Chris\\\\Blood Cells\\\\BCCD_Dataset-master\\\\BCCD\\\\JPEGImages'"
   ]
  },
  {
   "cell_type": "markdown",
   "metadata": {},
   "source": [
    "## Define Helper Functions and Load Data"
   ]
  },
  {
   "cell_type": "code",
   "execution_count": 5,
   "metadata": {
    "jupyter": {
     "source_hidden": true
    }
   },
   "outputs": [],
   "source": [
    "def get_data(folder, size):\n",
    "    \"\"\"\n",
    "    Load the data and labels from the given folder.\n",
    "    \"\"\"\n",
    "    X = []\n",
    "    y = []\n",
    "    z = []\n",
    "    for wbc_type in os.listdir(folder):\n",
    "        if not wbc_type.startswith('.'):\n",
    "            if wbc_type in ['NEUTROPHIL']:\n",
    "                label = 1\n",
    "                label2 = 1\n",
    "            elif wbc_type in ['EOSINOPHIL']:\n",
    "                label = 2\n",
    "                label2 = 1\n",
    "            elif wbc_type in ['MONOCYTE']:\n",
    "                label = 3  \n",
    "                label2 = 0\n",
    "            elif wbc_type in ['LYMPHOCYTE']:\n",
    "                label = 4 \n",
    "                label2 = 0\n",
    "            else:\n",
    "                label = 5\n",
    "                label2 = 0\n",
    "            for image_filename in tqdm(os.listdir(folder + wbc_type)):\n",
    "                img_file = cv2.imread(folder + wbc_type + '/' + image_filename)\n",
    "                if img_file is not None:\n",
    "                    img_file = cv2.resize(img_file, dsize=size)\n",
    "                    img_arr = np.asarray(img_file)\n",
    "                    X.append(img_arr)\n",
    "                    y.append(label)\n",
    "                    z.append(label2)\n",
    "    X = np.asarray(X)\n",
    "    y = np.asarray(y)\n",
    "    z = np.asarray(z)\n",
    "    return X,y,z\n",
    "\n",
    "def plot_learning_curve(history):\n",
    "    plt.figure(figsize=(8,8))\n",
    "    plt.subplot(1,2,1)\n",
    "    plt.plot(history['acc'])\n",
    "    plt.plot(history['val_acc'])\n",
    "    plt.title('model accuracy')\n",
    "    plt.ylabel('accuracy')\n",
    "    plt.xlabel('epoch')\n",
    "    plt.legend(['train', 'test'], loc='upper left')\n",
    "    plt.savefig('./accuracy_curve.png')\n",
    "    #plt.clf()\n",
    "    # summarize history for loss\n",
    "    plt.subplot(1,2,2)\n",
    "    plt.plot(history['loss'])\n",
    "    plt.plot(history['val_loss'])\n",
    "    plt.title('model loss')\n",
    "    plt.ylabel('loss')\n",
    "    plt.xlabel('epoch')\n",
    "    plt.legend(['train', 'test'], loc='upper left')\n",
    "    plt.savefig('./loss_curve.png')"
   ]
  },
  {
   "cell_type": "code",
   "execution_count": 6,
   "metadata": {},
   "outputs": [
    {
     "name": "stderr",
     "output_type": "stream",
     "text": [
      "100%|█████████████████████████████████████████████████████████████████████████████| 2497/2497 [00:03<00:00, 765.72it/s]\n",
      "100%|█████████████████████████████████████████████████████████████████████████████| 2483/2483 [00:03<00:00, 782.79it/s]\n",
      "100%|█████████████████████████████████████████████████████████████████████████████| 2478/2478 [00:03<00:00, 788.17it/s]\n",
      "100%|█████████████████████████████████████████████████████████████████████████████| 2499/2499 [00:03<00:00, 791.57it/s]\n",
      "100%|███████████████████████████████████████████████████████████████████████████████| 623/623 [00:00<00:00, 777.78it/s]\n",
      "100%|███████████████████████████████████████████████████████████████████████████████| 620/620 [00:00<00:00, 775.00it/s]\n",
      "100%|███████████████████████████████████████████████████████████████████████████████| 620/620 [00:00<00:00, 762.61it/s]\n",
      "100%|███████████████████████████████████████████████████████████████████████████████| 624/624 [00:00<00:00, 769.42it/s]\n"
     ]
    }
   ],
   "source": [
    "from PIL import Image\n",
    "size=(64, 64)\n",
    "X_train, y_train, z_train = get_data('C:\\\\Users\\\\Chris\\\\Blood Cells\\\\BCCD_Dataset-master\\\\dataset2-master\\\\images\\\\TRAIN\\\\', size)\n",
    "X_test, y_test, z_test = get_data('C:\\\\Users\\\\Chris\\\\Blood Cells\\\\BCCD_Dataset-master\\\\dataset2-master\\\\images\\\\TEST\\\\', size)"
   ]
  },
  {
   "cell_type": "code",
   "execution_count": 5,
   "metadata": {},
   "outputs": [],
   "source": [
    "# Encode labels to hot vectors (ex : 2 -> [0,0,1,0,0,0,0,0,0,0])\n",
    "from keras.utils.np_utils import to_categorical\n",
    "y_trainHot = to_categorical(y_train, num_classes = 5)\n",
    "y_testHot = to_categorical(y_test, num_classes = 5)\n",
    "z_trainHot = to_categorical(z_train, num_classes = 2)\n",
    "z_testHot = to_categorical(z_test, num_classes = 2)\n",
    "\n",
    "# Normalize to [0,1]\n",
    "X_train=np.array(X_train)\n",
    "X_train=X_train/255.0\n",
    "\n",
    "X_test=np.array(X_test)\n",
    "X_test=X_test/255.0"
   ]
  },
  {
   "cell_type": "markdown",
   "metadata": {},
   "source": [
    "## Import VGG with Pretrained Weights"
   ]
  },
  {
   "cell_type": "code",
   "execution_count": 18,
   "metadata": {},
   "outputs": [],
   "source": [
    "vgg = applications.vgg16.VGG16(weights='imagenet',include_top=False, input_shape=(64, 64,3))"
   ]
  },
  {
   "cell_type": "markdown",
   "metadata": {},
   "source": [
    "Don't retrain bottom layers"
   ]
  },
  {
   "cell_type": "code",
   "execution_count": 19,
   "metadata": {},
   "outputs": [
    {
     "name": "stdout",
     "output_type": "stream",
     "text": [
      "<keras.engine.input_layer.InputLayer object at 0x0000022DDBD90048> False\n",
      "<keras.layers.convolutional.Conv2D object at 0x0000022DDBD90808> False\n",
      "<keras.layers.convolutional.Conv2D object at 0x0000022D87A95708> False\n",
      "<keras.layers.pooling.MaxPooling2D object at 0x0000022DDBD903C8> False\n",
      "<keras.layers.convolutional.Conv2D object at 0x0000022D87AF3D08> False\n",
      "<keras.layers.convolutional.Conv2D object at 0x0000022FB8AEA0C8> False\n",
      "<keras.layers.pooling.MaxPooling2D object at 0x0000022FB8B46388> False\n",
      "<keras.layers.convolutional.Conv2D object at 0x0000022FB8B46308> False\n",
      "<keras.layers.convolutional.Conv2D object at 0x0000022FB8B64A88> False\n",
      "<keras.layers.convolutional.Conv2D object at 0x0000022FB8B9B608> False\n",
      "<keras.layers.pooling.MaxPooling2D object at 0x0000022FB8BA5F88> False\n",
      "<keras.layers.convolutional.Conv2D object at 0x0000022FB8BC17C8> False\n",
      "<keras.layers.convolutional.Conv2D object at 0x0000022FB8BDFD48> False\n",
      "<keras.layers.convolutional.Conv2D object at 0x0000022FB8C17788> False\n",
      "<keras.layers.pooling.MaxPooling2D object at 0x0000022FB8C25B88> False\n",
      "<keras.layers.convolutional.Conv2D object at 0x0000022FB8C53588> True\n",
      "<keras.layers.convolutional.Conv2D object at 0x0000022FB8C68D88> True\n",
      "<keras.layers.convolutional.Conv2D object at 0x0000022FB8C89FC8> True\n",
      "<keras.layers.pooling.MaxPooling2D object at 0x0000022FB8CAC388> True\n"
     ]
    }
   ],
   "source": [
    "for layer in vgg.layers[:-4]:\n",
    "    layer.trainable=False\n",
    "for layer in vgg.layers:\n",
    "    print(layer,layer.trainable)"
   ]
  },
  {
   "cell_type": "code",
   "execution_count": 20,
   "metadata": {},
   "outputs": [],
   "source": [
    "model = Sequential()\n",
    "model.add(vgg)\n",
    "model.add(Flatten())\n",
    "model.add(Dense(128, activation='relu' ))\n",
    "model.add(Dropout(0.1))\n",
    "model.add(Dense(5, activation='softmax'))"
   ]
  },
  {
   "cell_type": "code",
   "execution_count": 21,
   "metadata": {},
   "outputs": [],
   "source": [
    "model.compile(loss=keras.losses.categorical_crossentropy, optimizer=Adam(), metrics=['accuracy'])"
   ]
  },
  {
   "cell_type": "code",
   "execution_count": 16,
   "metadata": {},
   "outputs": [
    {
     "name": "stdout",
     "output_type": "stream",
     "text": [
      "_________________________________________________________________\n",
      "Layer (type)                 Output Shape              Param #   \n",
      "=================================================================\n",
      "vgg16 (Model)                (None, 2, 2, 512)         14714688  \n",
      "_________________________________________________________________\n",
      "flatten_2 (Flatten)          (None, 2048)              0         \n",
      "_________________________________________________________________\n",
      "dense_5 (Dense)              (None, 128)               262272    \n",
      "_________________________________________________________________\n",
      "dropout_4 (Dropout)          (None, 128)               0         \n",
      "_________________________________________________________________\n",
      "dense_6 (Dense)              (None, 5)                 645       \n",
      "=================================================================\n",
      "Total params: 14,977,605\n",
      "Trainable params: 7,342,341\n",
      "Non-trainable params: 7,635,264\n",
      "_________________________________________________________________\n"
     ]
    }
   ],
   "source": [
    "model.summary()"
   ]
  },
  {
   "cell_type": "code",
   "execution_count": 22,
   "metadata": {
    "collapsed": true,
    "jupyter": {
     "outputs_hidden": true
    }
   },
   "outputs": [
    {
     "name": "stdout",
     "output_type": "stream",
     "text": [
      "Epoch 1/50\n",
      " - 10s - loss: 1.5333 - acc: 0.2908 - val_loss: 1.2877 - val_acc: 0.3707\n",
      "Epoch 2/50\n",
      " - 8s - loss: 1.0490 - acc: 0.5293 - val_loss: 1.0473 - val_acc: 0.5312\n",
      "Epoch 3/50\n",
      " - 8s - loss: 0.6897 - acc: 0.7097 - val_loss: 0.8925 - val_acc: 0.6731\n",
      "Epoch 4/50\n",
      " - 8s - loss: 0.5431 - acc: 0.7755 - val_loss: 1.0149 - val_acc: 0.6671\n",
      "Epoch 5/50\n",
      " - 8s - loss: 0.3849 - acc: 0.8489 - val_loss: 0.7381 - val_acc: 0.7467\n",
      "Epoch 6/50\n",
      " - 8s - loss: 0.3135 - acc: 0.8710 - val_loss: 0.7473 - val_acc: 0.7547\n",
      "Epoch 7/50\n",
      " - 8s - loss: 0.2762 - acc: 0.8870 - val_loss: 0.8016 - val_acc: 0.7238\n",
      "Epoch 8/50\n",
      " - 8s - loss: 0.2278 - acc: 0.9041 - val_loss: 1.0671 - val_acc: 0.6868\n",
      "Epoch 9/50\n",
      " - 8s - loss: 0.2228 - acc: 0.9112 - val_loss: 0.8709 - val_acc: 0.7519\n",
      "Epoch 10/50\n",
      " - 8s - loss: 0.2010 - acc: 0.9190 - val_loss: 1.2887 - val_acc: 0.6852\n",
      "Epoch 11/50\n",
      " - 8s - loss: 0.1729 - acc: 0.9302 - val_loss: 1.0662 - val_acc: 0.7242\n",
      "Epoch 12/50\n",
      " - 8s - loss: 0.1505 - acc: 0.9410 - val_loss: 1.0650 - val_acc: 0.7205\n",
      "Epoch 13/50\n",
      " - 8s - loss: 0.1370 - acc: 0.9472 - val_loss: 1.2353 - val_acc: 0.6904\n",
      "Epoch 14/50\n",
      " - 8s - loss: 0.1247 - acc: 0.9517 - val_loss: 1.2115 - val_acc: 0.7342\n",
      "Epoch 15/50\n",
      " - 8s - loss: 0.1302 - acc: 0.9485 - val_loss: 1.1602 - val_acc: 0.7262\n",
      "Epoch 16/50\n",
      " - 8s - loss: 0.1298 - acc: 0.9513 - val_loss: 1.4758 - val_acc: 0.7113\n",
      "Epoch 17/50\n",
      " - 8s - loss: 0.1103 - acc: 0.9583 - val_loss: 1.4115 - val_acc: 0.7012\n",
      "Epoch 18/50\n",
      " - 8s - loss: 0.0986 - acc: 0.9643 - val_loss: 1.4473 - val_acc: 0.7049\n",
      "Epoch 19/50\n",
      " - 8s - loss: 0.0863 - acc: 0.9677 - val_loss: 1.5309 - val_acc: 0.6984\n",
      "Epoch 20/50\n",
      " - 8s - loss: 0.0902 - acc: 0.9682 - val_loss: 1.2828 - val_acc: 0.7318\n",
      "Epoch 21/50\n",
      " - 8s - loss: 0.0906 - acc: 0.9646 - val_loss: 1.8614 - val_acc: 0.6610\n",
      "Epoch 22/50\n",
      " - 8s - loss: 0.0766 - acc: 0.9707 - val_loss: 1.2893 - val_acc: 0.7101\n",
      "Epoch 23/50\n",
      " - 8s - loss: 0.0688 - acc: 0.9733 - val_loss: 1.7988 - val_acc: 0.6639\n",
      "Epoch 24/50\n",
      " - 8s - loss: 0.0653 - acc: 0.9767 - val_loss: 1.9060 - val_acc: 0.6546\n",
      "Epoch 25/50\n",
      " - 8s - loss: 0.0655 - acc: 0.9768 - val_loss: 2.0248 - val_acc: 0.6614\n",
      "Epoch 26/50\n",
      " - 8s - loss: 0.0623 - acc: 0.9780 - val_loss: 1.5153 - val_acc: 0.6940\n",
      "Epoch 27/50\n",
      " - 8s - loss: 0.0646 - acc: 0.9769 - val_loss: 1.9708 - val_acc: 0.6755\n",
      "Epoch 28/50\n",
      " - 8s - loss: 0.0565 - acc: 0.9790 - val_loss: 1.9249 - val_acc: 0.6659\n",
      "Epoch 29/50\n",
      " - 8s - loss: 0.0439 - acc: 0.9842 - val_loss: 2.2388 - val_acc: 0.6763\n",
      "Epoch 30/50\n",
      " - 8s - loss: 0.0679 - acc: 0.9756 - val_loss: 1.8535 - val_acc: 0.6755\n",
      "Epoch 31/50\n",
      " - 8s - loss: 0.0565 - acc: 0.9828 - val_loss: 1.6924 - val_acc: 0.6908\n",
      "Epoch 32/50\n",
      " - 8s - loss: 0.0498 - acc: 0.9816 - val_loss: 2.3918 - val_acc: 0.6289\n",
      "Epoch 33/50\n",
      " - 8s - loss: 0.0514 - acc: 0.9804 - val_loss: 1.5584 - val_acc: 0.7137\n",
      "Epoch 34/50\n",
      " - 8s - loss: 0.0513 - acc: 0.9828 - val_loss: 1.2080 - val_acc: 0.7390\n",
      "Epoch 35/50\n",
      " - 8s - loss: 0.0447 - acc: 0.9832 - val_loss: 1.6247 - val_acc: 0.6811\n",
      "Epoch 36/50\n",
      " - 8s - loss: 0.0452 - acc: 0.9831 - val_loss: 1.5033 - val_acc: 0.6988\n",
      "Epoch 37/50\n",
      " - 8s - loss: 0.0373 - acc: 0.9875 - val_loss: 1.4973 - val_acc: 0.7149\n",
      "Epoch 38/50\n",
      " - 8s - loss: 0.0400 - acc: 0.9857 - val_loss: 1.7786 - val_acc: 0.6932\n",
      "Epoch 39/50\n",
      " - 8s - loss: 0.0370 - acc: 0.9871 - val_loss: 2.0939 - val_acc: 0.6369\n",
      "Epoch 40/50\n",
      " - 8s - loss: 0.0385 - acc: 0.9870 - val_loss: 1.8138 - val_acc: 0.6763\n",
      "Epoch 41/50\n",
      " - 8s - loss: 0.0471 - acc: 0.9814 - val_loss: 1.8604 - val_acc: 0.6618\n",
      "Epoch 42/50\n",
      " - 8s - loss: 0.0348 - acc: 0.9866 - val_loss: 1.7321 - val_acc: 0.6888\n",
      "Epoch 43/50\n",
      " - 8s - loss: 0.0319 - acc: 0.9886 - val_loss: 1.7823 - val_acc: 0.6811\n",
      "Epoch 44/50\n",
      " - 8s - loss: 0.0478 - acc: 0.9832 - val_loss: 1.7510 - val_acc: 0.6695\n",
      "Epoch 45/50\n",
      " - 8s - loss: 0.0340 - acc: 0.9876 - val_loss: 1.4810 - val_acc: 0.7037\n",
      "Epoch 46/50\n",
      " - 8s - loss: 0.0316 - acc: 0.9901 - val_loss: 1.9530 - val_acc: 0.6747\n",
      "Epoch 47/50\n",
      " - 8s - loss: 0.0408 - acc: 0.9854 - val_loss: 2.1337 - val_acc: 0.6466\n",
      "Epoch 48/50\n",
      " - 8s - loss: 0.0300 - acc: 0.9900 - val_loss: 1.6900 - val_acc: 0.6984\n",
      "Epoch 49/50\n",
      " - 8s - loss: 0.0320 - acc: 0.9898 - val_loss: 2.2457 - val_acc: 0.6610\n",
      "Epoch 50/50\n",
      " - 8s - loss: 0.0350 - acc: 0.9878 - val_loss: 1.2919 - val_acc: 0.7370\n"
     ]
    }
   ],
   "source": [
    "#Training Parameters \n",
    "batch_size  = 128\n",
    "epochs      = 50\n",
    "\n",
    "#Input Data parameters\n",
    "num_classes = 5\n",
    "img_rows, img_cols = 64, 64\n",
    "input_shape = (img_rows, img_cols, 3)\n",
    "\n",
    "\n",
    "datagen = ImageDataGenerator(\n",
    "        rotation_range=10,  # randomly rotate images in the range (degrees, 0 to 180)\n",
    "        width_shift_range=0.1,  # randomly shift images horizontally (fraction of total width)\n",
    "        height_shift_range=0.1,  # randomly shift images vertically (fraction of total height)\n",
    "        horizontal_flip=True,  # randomly flip images\n",
    "        vertical_flip=True)  # randomly flip images\n",
    "\n",
    "history = model.fit_generator(datagen.flow(X_train,y_trainHot, batch_size=batch_size),\n",
    "                        steps_per_epoch=len(X_train) / batch_size, epochs=epochs, validation_data = [X_test, y_testHot], verbose=2)"
   ]
  },
  {
   "cell_type": "code",
   "execution_count": 23,
   "metadata": {},
   "outputs": [
    {
     "data": {
      "image/png": "[encoded data removed]",
      "text/plain": [
       "<Figure size 576x576 with 2 Axes>"
      ]
     },
     "metadata": {
      "needs_background": "light"
     },
     "output_type": "display_data"
    }
   ],
   "source": [
    "plot_learning_curve(history.history)\n",
    "plt.show()"
   ]
  }
 ],
 "metadata": {
  "kernelspec": {
   "display_name": "dviz",
   "language": "python",
   "name": "dviz"
  },
  "language_info": {
   "codemirror_mode": {
    "name": "ipython",
    "version": 3
   },
   "file_extension": ".py",
   "mimetype": "text/x-python",
   "name": "python",
   "nbconvert_exporter": "python",
   "pygments_lexer": "ipython3",
   "version": "3.7.5"
  }
 },
 "nbformat": 4,
 "nbformat_minor": 4
}
